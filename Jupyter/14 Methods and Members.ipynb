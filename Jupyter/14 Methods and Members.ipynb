{
 "cells": [
  {
   "cell_type": "markdown",
   "id": "e62eb35a-0e93-4ab6-b45e-6b5c261879bb",
   "metadata": {},
   "source": [
    "# Methods and Members\n",
    "\n",
    "Here's your bank account so far! It doesn't do much right now, only prints out the owner and balance. It doesn't even have an account number yet. You'll work on a transaction class, which has been added as an empty class for you.\n",
    "\n",
    "> Run each code chunk below and see what gets printed. This is what you ended up with last time."
   ]
  },
  {
   "cell_type": "code",
   "execution_count": 2,
   "id": "dd41e801-5e09-4570-90cf-ff16d8ea5456",
   "metadata": {},
   "outputs": [],
   "source": [
    "public class BankAccount\n",
    "{\n",
    "    // Properties\n",
    "    public string Number { get; }\n",
    "    public string Owner { get; set; }\n",
    "    public decimal Balance { get; }\n",
    "\n",
    "    // Constructor\n",
    "    public BankAccount(string name, decimal initialBalance)\n",
    "    {\n",
    "        this.Owner = name;\n",
    "        this.Balance = initialBalance;\n",
    "    }\n",
    "\n",
    "    // Functions\n",
    "    public void MakeDeposit(decimal amount, DateTime date, string note)\n",
    "    {\n",
    "    }\n",
    "\n",
    "    public void MakeWithdrawal(decimal amount, DateTime date, string note)\n",
    "    {\n",
    "    }\n",
    "}"
   ]
  },
  {
   "cell_type": "code",
   "execution_count": 3,
   "id": "5579ac0a-8f72-499b-9db5-4810eb1f9bce",
   "metadata": {},
   "outputs": [
    {
     "name": "stdout",
     "output_type": "stream",
     "text": [
      "Account was created for Kendra with 1000 dollars\n"
     ]
    }
   ],
   "source": [
    "var account = new BankAccount(\"Kendra\", 1000);\n",
    "Console.WriteLine($\"Account{account.Number} was created for {account.Owner} with {account.Balance} dollars\");"
   ]
  },
  {
   "cell_type": "markdown",
   "id": "5aefb69b-b86f-4fd8-bf6b-b11f8573bdce",
   "metadata": {},
   "source": [
    "## #1: Account Number\n",
    "\n",
    "You need a starting number, that you can base the new account numbers off of, to insure that all the accounts are unique. Below is the code for this number \"seed\". What does it mean?\n",
    "\n",
    "- **Private**: This means that no client can see this number. It's internal, part of the internal workings of the code.\n",
    "- **Static**: This mean the number is universal amongst all individual accounts. If one account changes it, then that number is updated for all the other accounts. This is how you can make it a great way to make sure the account numbers are all unique! Once an bank account uses it for it's bank number, it can add one to the account seed, and the next new bank account has a new number.\n",
    "\n",
    "> Copy the code below and paste it in the `// Properties` section of the `BankAccount` class.\n",
    "\n",
    "```csharp\n",
    "private static int accountNumberSeed = 1234567890;\n",
    "```\n",
    "\n",
    "> Copy this next bit of code and add it to the constructor.\n",
    "\n",
    "```csharp\n",
    "this.Number = accountNumberSeed.ToString();\n",
    "accountNumberSeed++;\n",
    "```\n",
    "\n",
    "> Run this code and see what happens!"
   ]
  },
  {
   "cell_type": "code",
   "execution_count": 4,
   "id": "582e1f82-3599-4061-b769-57c4d786fa2f",
   "metadata": {},
   "outputs": [],
   "source": [
    "public class BankAccount\n",
    "{\n",
    "    // Properties\n",
    "    public string Number { get; }\n",
    "    public string Owner { get; set; }\n",
    "    public decimal Balance { get; }\n",
    "    //(Paste first bit here!)\n",
    "\n",
    "    // Constructor\n",
    "    public BankAccount(string name, decimal initialBalance)\n",
    "    {\n",
    "        this.Owner = name;\n",
    "        this.Balance = initialBalance;\n",
    "        //(Paste second part here!)\n",
    "\n",
    "    }\n",
    "\n",
    "    // Functions\n",
    "    public void MakeDeposit(decimal amount, DateTime date, string note)\n",
    "    {\n",
    "    }\n",
    "\n",
    "    public void MakeWithdrawal(decimal amount, DateTime date, string note)\n",
    "    {\n",
    "    }\n",
    "}"
   ]
  },
  {
   "cell_type": "code",
   "execution_count": 5,
   "id": "ae721db6-1555-4c2e-91b5-ace166272823",
   "metadata": {},
   "outputs": [
    {
     "name": "stdout",
     "output_type": "stream",
     "text": [
      "Account  was created for Kendra with 1000 dollars\n"
     ]
    }
   ],
   "source": [
    "var account = new BankAccount(\"Kendra\", 1000);\n",
    "Console.WriteLine($\"Account {account.Number} was created for {account.Owner} with {account.Balance} dollars\");"
   ]
  },
  {
   "cell_type": "markdown",
   "id": "9162990b-4d7c-4491-94e2-f8228a6fa10f",
   "metadata": {},
   "source": [
    "## #2: Transaction Properties\n",
    "\n",
    "The next part you need is a balance! One way you could do this is just keep a running tab. However, another way to do it is to create a history of transactions. To do that, you're going to make a little transaction class, that records one transaction.\n",
    "\n",
    "> paste the properties below into the class `Transaction`\n",
    "\n",
    "```csharp\n",
    "public decimal Amount { get; }\n",
    "public DateTime Date { get; }\n",
    "public string Notes { get; }\n",
    "```"
   ]
  },
  {
   "cell_type": "code",
   "execution_count": 6,
   "id": "dcca9d81-98f1-4364-be25-5f065a7e2c18",
   "metadata": {},
   "outputs": [],
   "source": [
    "public class Transaction\n",
    "{\n",
    "    // Properties (Paste here!)\n",
    "\n",
    "    // Constructor\n",
    "}"
   ]
  },
  {
   "cell_type": "markdown",
   "id": "3d92a0e3-4169-4d34-9d09-30d14da5c3e7",
   "metadata": {},
   "source": [
    "## #3: Transaction Constructor\n",
    "\n",
    "Next, you need to add the constructor to the class!\n",
    "\n",
    "> Add the following code to the `Transaction` class, under constructor.\n",
    "\n",
    "```csharp\n",
    "public Transaction(decimal amount, DateTime date, string note)\n",
    "{\n",
    "    this.Amount = amount;\n",
    "    this.Date = date;\n",
    "    this.Notes = note;\n",
    "}\n",
    "```"
   ]
  },
  {
   "cell_type": "code",
   "execution_count": 7,
   "id": "f94f9356-d63c-48d6-89a6-4a47b17db055",
   "metadata": {},
   "outputs": [],
   "source": [
    "public class Transaction\n",
    "{\n",
    "    // Properties\n",
    "    public decimal Amount { get; }\n",
    "    public DateTime Date { get; }\n",
    "    public string Notes { get; }\n",
    "\n",
    "    // Constructor (Paste here!)\n",
    "}"
   ]
  },
  {
   "cell_type": "markdown",
   "id": "0e7b51c4-ce0e-4e39-b0fd-97b5353ca808",
   "metadata": {},
   "source": [
    "## #4: Update BankAccount to match\n",
    "\n",
    "Now that you have a transaction class, you can use that in our bank account. First, you need to make a list of transactions.\n",
    "\n",
    "> Copy the following code into the Properties section.\n",
    "\n",
    "```csharp\n",
    "private List<Transaction> allTransactions = new List<Transaction>();\n",
    "```"
   ]
  },
  {
   "cell_type": "code",
   "execution_count": 8,
   "id": "3cc07c2a-6cd7-4088-9c6d-c599b8fde3ab",
   "metadata": {},
   "outputs": [],
   "source": [
    "using System.Collections.Generic;\n",
    "\n",
    "public class BankAccount\n",
    "{\n",
    "    // Properties\n",
    "    public string Number { get; }\n",
    "    public string Owner { get; set; }\n",
    "    public decimal Balance{ get;}\n",
    "    private static int accountNumberSeed = 1234567890;\n",
    "    //(Paste here!)\n",
    "\n",
    "    // Constructor\n",
    "    public BankAccount(string name, decimal initialBalance)\n",
    "    {\n",
    "        this.Owner = name;\n",
    "        this.Balance = initialBalance;\n",
    "        this.Number = accountNumberSeed.ToString();\n",
    "        accountNumberSeed++;\n",
    "\n",
    "    }\n",
    "\n",
    "    // Functions\n",
    "    public void MakeDeposit(decimal amount, DateTime date, string note)\n",
    "    {\n",
    "    }\n",
    "\n",
    "    public void MakeWithdrawal(decimal amount, DateTime date, string note)\n",
    "    {\n",
    "    }\n",
    "}"
   ]
  },
  {
   "cell_type": "markdown",
   "id": "652e2b6b-dd58-4198-bfc9-c74e5887b440",
   "metadata": {},
   "source": [
    "## #5: Updating Balance\n",
    "\n",
    "Now that you have a list of transactions that you can use, you need to attach `Balance` to that. What you want to do is, whenever someone wants to get balance, the code checks the list of transactions and tallies it all up, before returning the answer. You can do this by attaching some instructions to the `get` in Balance!\n",
    "\n",
    "> In `BankAccount`, replace `public decimal Balance { get;}` with the following code:\n",
    "\n",
    "```csharp\n",
    "public decimal Balance\n",
    "{\n",
    "    get\n",
    "    {\n",
    "        decimal balance = 0;\n",
    "        foreach (var item in allTransactions)\n",
    "        {\n",
    "            balance += item.Amount;\n",
    "        }\n",
    "\n",
    "        return balance;\n",
    "    }\n",
    "}\n",
    "```"
   ]
  },
  {
   "cell_type": "code",
   "execution_count": 9,
   "id": "f6ffeb05-3637-4c21-afbd-4e09418d3c3f",
   "metadata": {},
   "outputs": [],
   "source": [
    "public class BankAccount\n",
    "{\n",
    "    // Properties\n",
    "    public string Number { get; }\n",
    "    public string Owner { get; set; }\n",
    "    public decimal Balance { get; }  // replace this line!\n",
    "    private static int accountNumberSeed = 1234567890;\n",
    "    private List<Transaction> allTransactions = new List<Transaction>();\n",
    "\n",
    "    // Constructor\n",
    "    public BankAccount(string name, decimal initialBalance)\n",
    "    {\n",
    "        this.Owner = name;\n",
    "        this.Balance = initialBalance;\n",
    "        this.Number = accountNumberSeed.ToString();\n",
    "        accountNumberSeed++;\n",
    "    }\n",
    "\n",
    "    // Functions\n",
    "    public void MakeDeposit(decimal amount, DateTime date, string note)\n",
    "    {\n",
    "    }\n",
    "\n",
    "    public void MakeWithdrawal(decimal amount, DateTime date, string note)\n",
    "    {\n",
    "    }\n",
    "}"
   ]
  },
  {
   "cell_type": "markdown",
   "id": "f5b366cf-76b6-469f-9cc5-d69a1a6819d4",
   "metadata": {},
   "source": [
    "## #6: Fixing errors\n",
    "\n",
    "You may have noticed a red squiggly line under `this.Balance`. There's a new error you created! Because whenever you're getting Balance, it goes through a process of summing up the list of transactions, you can't just say that `Balance` is initial balance. You won't fix this entirely in this module, but you can make the code usable for now.\n",
    "\n",
    "> Remove the line `this.Balance = initialBalance`."
   ]
  },
  {
   "cell_type": "code",
   "execution_count": 11,
   "id": "e10622e1-58b5-4e31-ab4a-748f6493cde0",
   "metadata": {},
   "outputs": [],
   "source": [
    "public class BankAccount\n",
    "{\n",
    "    // Properties\n",
    "    public string Number { get; }\n",
    "    public string Owner { get; set; }\n",
    "    public decimal Balance\n",
    "    {\n",
    "        get\n",
    "        {\n",
    "            decimal balance = 0;\n",
    "            foreach (var item in allTransactions)\n",
    "            {\n",
    "                balance += item.Amount;\n",
    "            }\n",
    "\n",
    "            return balance;\n",
    "        }\n",
    "    }\n",
    "    private static int accountNumberSeed = 1234567890;\n",
    "    private List<Transaction> allTransactions = new List<Transaction>();\n",
    "\n",
    "\n",
    "    // Constructor\n",
    "    public BankAccount(string name, decimal initialBalance)\n",
    "    {\n",
    "        this.Owner = name;\n",
    "        //this.Balance = initialBalance; //delete this line\n",
    "        this.Number = accountNumberSeed.ToString();\n",
    "        accountNumberSeed++;\n",
    "    }\n",
    "\n",
    "    // Functions\n",
    "    public void MakeDeposit(decimal amount, DateTime date, string note)\n",
    "    {\n",
    "    }\n",
    "\n",
    "    public void MakeWithdrawal(decimal amount, DateTime date, string note)\n",
    "    {\n",
    "    }\n",
    "}"
   ]
  },
  {
   "cell_type": "markdown",
   "id": "a423087f-5e38-4a1d-a6a8-a0c43fdb58ce",
   "metadata": {},
   "source": [
    "# Review: Where did Initial Balance go?\n",
    "\n",
    "Here's our final code for this module below. There's a problem though! You no longer have an initial balance and have 0 money! Since you tied up your balance with transactions, you're gonna need to be able to make deposits and withdrawals to put money in the bank. You'll learn that in the next module!\n",
    "\n",
    "> Run the code cells below.\n",
    ">\n",
    "> Try making your own transaction methods before the next module! Where are you getting stuck? What do you need to learn?"
   ]
  },
  {
   "cell_type": "code",
   "execution_count": 12,
   "id": "579086b3-5861-4e63-9bf2-0f9d66eaf76d",
   "metadata": {},
   "outputs": [],
   "source": [
    "public class Transaction\n",
    "{\n",
    "    // Properties (#2)\n",
    "    public decimal Amount { get; }\n",
    "    public DateTime Date { get; }\n",
    "    public string Notes\n",
    "    {\n",
    "        get;\n",
    "\n",
    "    }\n",
    "\n",
    "    // Constructor (#3)\n",
    "    public Transaction(decimal amount, DateTime date, string note)\n",
    "    {\n",
    "        this.Amount = amount;\n",
    "        this.Date = date;\n",
    "        this.Notes = note;\n",
    "    }\n",
    "}"
   ]
  },
  {
   "cell_type": "code",
   "execution_count": 13,
   "id": "356d9d4f-761c-47a0-a4c5-6a04d0b6f334",
   "metadata": {},
   "outputs": [],
   "source": [
    "using System.Collections.Generic;\n",
    "\n",
    "public class BankAccount\n",
    "{\n",
    "    // Properties\n",
    "    public string Number { get; }\n",
    "    public string Owner { get; set; }\n",
    "    public decimal Balance  //(#5)\n",
    "    {\n",
    "        get\n",
    "\n",
    "        {\n",
    "            decimal balance = 0;\n",
    "            foreach (var item in allTransactions)\n",
    "            {\n",
    "                balance += item.Amount;\n",
    "            }\n",
    "\n",
    "            return balance;\n",
    "        }\n",
    "\n",
    "\n",
    "    }\n",
    "    private static int accountNumberSeed = 1234567890; //(#1)\n",
    "    private List<Transaction> allTransactions = new List<Transaction>(); //(#4)\n",
    "\n",
    "\n",
    "    // Constructor\n",
    "    public BankAccount(string name, decimal initialBalance)\n",
    "    {\n",
    "        this.Owner = name;\n",
    "        //(#6: deleted \"this.Balance = initialBalance;\")\n",
    "        this.Number = accountNumberSeed.ToString(); //(#1)\n",
    "        accountNumberSeed++; //(#1)\n",
    "\n",
    "    }\n",
    "\n",
    "    // Functions\n",
    "    public void MakeDeposit(decimal amount, DateTime date, string note)\n",
    "    {\n",
    "    }\n",
    "\n",
    "    public void MakeWithdrawal(decimal amount, DateTime date, string note)\n",
    "    {\n",
    "    }\n",
    "}"
   ]
  },
  {
   "cell_type": "code",
   "execution_count": 14,
   "id": "ea206620-e036-4431-b995-90b4304e1b69",
   "metadata": {},
   "outputs": [
    {
     "name": "stdout",
     "output_type": "stream",
     "text": [
      "Account 1234567890 was created for Kendra with 0 dollars\n"
     ]
    }
   ],
   "source": [
    "var account = new BankAccount(\"Kendra\", 1000);\n",
    "Console.WriteLine($\"Account {account.Number} was created for {account.Owner} with {account.Balance} dollars\");"
   ]
  },
  {
   "cell_type": "code",
   "execution_count": null,
   "id": "82b4f976-c0d3-4a35-9de9-5d4b98f58f40",
   "metadata": {},
   "outputs": [],
   "source": []
  }
 ],
 "metadata": {
  "kernelspec": {
   "display_name": ".NET (C#)",
   "language": "C#",
   "name": ".net-csharp"
  },
  "language_info": {
   "file_extension": ".cs",
   "mimetype": "text/x-csharp",
   "name": "C#",
   "pygments_lexer": "csharp",
   "version": "10.0"
  }
 },
 "nbformat": 4,
 "nbformat_minor": 5
}
