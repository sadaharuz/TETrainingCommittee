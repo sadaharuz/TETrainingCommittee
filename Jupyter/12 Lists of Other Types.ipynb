{
 "cells": [
  {
   "cell_type": "markdown",
   "id": "02cf808c-130e-4f0d-9df9-8068e8cd3e2e",
   "metadata": {},
   "source": [
    "# Lists of Other Types\n",
    "You've been practicing lists of strings, but you can make a list of anything! Here's a number example.\n",
    "\n",
    "## Fibonacci\n",
    "\n",
    "Fibonacci is a cool number sequence. It adds up the last two numbers up to make the next number. You start with 1 and 1\n",
    "1 + 1 = 2  (1, 1, 2)\n",
    "1 + 2 = 3  (1, 1, 2, 3)\n",
    "2 + 3 = 5  (1, 1, 2, 3, 5)\n",
    "3 + 5 = 8  (1, 1, 2, 3, 5, 8)\n",
    "and so on. There are lots of stuff in nature that follow this number sequence, and has lots of cool stuff if you want to look it up!\n",
    "\n",
    "> Start with the base numbers: Here's a list with just 1, 1 in it. Run it and see what happens."
   ]
  },
  {
   "cell_type": "code",
   "execution_count": 1,
   "id": "601c35be-3662-48d2-a0ba-411a70c5150c",
   "metadata": {},
   "outputs": [
    {
     "data": {
      "text/html": [
       "\r\n",
       "<div>\r\n",
       "    <div id='dotnet-interactive-this-cell-3907.Microsoft.DotNet.Interactive.Http.HttpPort' style='display: none'>\r\n",
       "        The below script needs to be able to find the current output cell; this is an easy method to get it.\r\n",
       "    </div>\r\n",
       "    <script type='text/javascript'>\r\n",
       "async function probeAddresses(probingAddresses) {\r\n",
       "    function timeout(ms, promise) {\r\n",
       "        return new Promise(function (resolve, reject) {\r\n",
       "            setTimeout(function () {\r\n",
       "                reject(new Error('timeout'))\r\n",
       "            }, ms)\r\n",
       "            promise.then(resolve, reject)\r\n",
       "        })\r\n",
       "    }\r\n",
       "\r\n",
       "    if (Array.isArray(probingAddresses)) {\r\n",
       "        for (let i = 0; i < probingAddresses.length; i++) {\r\n",
       "\r\n",
       "            let rootUrl = probingAddresses[i];\r\n",
       "\r\n",
       "            if (!rootUrl.endsWith('/')) {\r\n",
       "                rootUrl = `${rootUrl}/`;\r\n",
       "            }\r\n",
       "\r\n",
       "            try {\r\n",
       "                let response = await timeout(1000, fetch(`${rootUrl}discovery`, {\r\n",
       "                    method: 'POST',\r\n",
       "                    cache: 'no-cache',\r\n",
       "                    mode: 'cors',\r\n",
       "                    timeout: 1000,\r\n",
       "                    headers: {\r\n",
       "                        'Content-Type': 'text/plain'\r\n",
       "                    },\r\n",
       "                    body: probingAddresses[i]\r\n",
       "                }));\r\n",
       "\r\n",
       "                if (response.status == 200) {\r\n",
       "                    return rootUrl;\r\n",
       "                }\r\n",
       "            }\r\n",
       "            catch (e) { }\r\n",
       "        }\r\n",
       "    }\r\n",
       "}\r\n",
       "\r\n",
       "function loadDotnetInteractiveApi() {\r\n",
       "    probeAddresses([\"http://172.17.0.2:1013/\", \"http://127.0.0.1:1013/\"])\r\n",
       "        .then((root) => {\r\n",
       "        // use probing to find host url and api resources\r\n",
       "        // load interactive helpers and language services\r\n",
       "        let dotnetInteractiveRequire = require.config({\r\n",
       "        context: '3907.Microsoft.DotNet.Interactive.Http.HttpPort',\r\n",
       "                paths:\r\n",
       "            {\r\n",
       "                'dotnet-interactive': `${root}resources`\r\n",
       "                }\r\n",
       "        }) || require;\r\n",
       "\r\n",
       "            window.dotnetInteractiveRequire = dotnetInteractiveRequire;\r\n",
       "\r\n",
       "            window.configureRequireFromExtension = function(extensionName, extensionCacheBuster) {\r\n",
       "                let paths = {};\r\n",
       "                paths[extensionName] = `${root}extensions/${extensionName}/resources/`;\r\n",
       "                \r\n",
       "                let internalRequire = require.config({\r\n",
       "                    context: extensionCacheBuster,\r\n",
       "                    paths: paths,\r\n",
       "                    urlArgs: `cacheBuster=${extensionCacheBuster}`\r\n",
       "                    }) || require;\r\n",
       "\r\n",
       "                return internalRequire\r\n",
       "            };\r\n",
       "        \r\n",
       "            dotnetInteractiveRequire([\r\n",
       "                    'dotnet-interactive/dotnet-interactive'\r\n",
       "                ],\r\n",
       "                function (dotnet) {\r\n",
       "                    dotnet.init(window);\r\n",
       "                },\r\n",
       "                function (error) {\r\n",
       "                    console.log(error);\r\n",
       "                }\r\n",
       "            );\r\n",
       "        })\r\n",
       "        .catch(error => {console.log(error);});\r\n",
       "    }\r\n",
       "\r\n",
       "// ensure `require` is available globally\r\n",
       "if ((typeof(require) !==  typeof(Function)) || (typeof(require.config) !== typeof(Function))) {\r\n",
       "    let require_script = document.createElement('script');\r\n",
       "    require_script.setAttribute('src', 'https://cdnjs.cloudflare.com/ajax/libs/require.js/2.3.6/require.min.js');\r\n",
       "    require_script.setAttribute('type', 'text/javascript');\r\n",
       "    \r\n",
       "    \r\n",
       "    require_script.onload = function() {\r\n",
       "        loadDotnetInteractiveApi();\r\n",
       "    };\r\n",
       "\r\n",
       "    document.getElementsByTagName('head')[0].appendChild(require_script);\r\n",
       "}\r\n",
       "else {\r\n",
       "    loadDotnetInteractiveApi();\r\n",
       "}\r\n",
       "\r\n",
       "    </script>\r\n",
       "</div>"
      ]
     },
     "metadata": {},
     "output_type": "display_data"
    },
    {
     "name": "stdout",
     "output_type": "stream",
     "text": [
      "1\n",
      "1\n"
     ]
    }
   ],
   "source": [
    "var fibonacciNumbers = new List<int> {1, 1};\n",
    "\n",
    "foreach (var item in fibonacciNumbers)\n",
    "    Console.WriteLine(item);"
   ]
  },
  {
   "cell_type": "markdown",
   "id": "4d01be15-6540-4e73-a81c-a45d727a8ee1",
   "metadata": {},
   "source": [
    "Now, you don't want just 1,1 in it! You want more of the sequence. In this code, you're using the last two numbers of the list, adding them together to make the next number, then adding it to the list.\n",
    "\n",
    "> Run the code to try it out."
   ]
  },
  {
   "cell_type": "code",
   "execution_count": 3,
   "id": "611dcec3-6837-4510-8c2c-24a23aa9414b",
   "metadata": {},
   "outputs": [
    {
     "name": "stdout",
     "output_type": "stream",
     "text": [
      "1\n",
      "1\n",
      "2\n"
     ]
    }
   ],
   "source": [
    "var fibonacciNumbers = new List<int> {1, 1}; // Starting the list off with the basics\n",
    "\n",
    "var previous = fibonacciNumbers[fibonacciNumbers.Count - 1]; // Take the last number in the list\n",
    "var previous2 = fibonacciNumbers[fibonacciNumbers.Count - 2]; // Take the second to last number in the list\n",
    "\n",
    "fibonacciNumbers.Add(previous + previous2); // Add the previous numbers together, and attach the sum to the end of the list\n",
    "\n",
    "foreach (var item in fibonacciNumbers) // Print out the list\n",
    "    Console.WriteLine(item);"
   ]
  },
  {
   "cell_type": "markdown",
   "id": "34b816c9-de08-4907-a511-f9da87dac1e9",
   "metadata": {},
   "source": [
    "## Count -1\n",
    "\n",
    "Why do you need to do `fibonacciNumbers.Count -1` to get the last number of the list? Well, `Count` tells you how many items are in a list. However, the index of an item starts at zero. So, if you only had one item in your list, the count would be one, but the index of the item would be 0. The index and count of the last item is always one off.\n",
    "\n",
    "# Challenge: Fibonacci to 20th number\n",
    "\n",
    "We've given you a base of code that deals with Fibonacci. Can you make a list that has the first 20 fibonacci numbers?\n",
    "\n",
    "> Make and print a list that has the first 20 fibonacci numbers."
   ]
  },
  {
   "cell_type": "code",
   "execution_count": 4,
   "id": "a0148b61-043a-4a61-8b23-ff55c8e54d1d",
   "metadata": {},
   "outputs": [
    {
     "name": "stdout",
     "output_type": "stream",
     "text": [
      "Challenge\n"
     ]
    }
   ],
   "source": [
    "Console.WriteLine(\"Challenge\");"
   ]
  },
  {
   "cell_type": "markdown",
   "id": "00471537-4bf0-47e4-81ab-d237c7c95ddf",
   "metadata": {},
   "source": [
    "## Tips and tricks\n",
    "\n",
    "- The final number should be 6765.\n",
    "- Could you make a `for` loop? A `foreach` loop? A `while` loop? Which kind of loop do you prefer and which would be more useful?\n",
    "- Are you getting close, but are you one number off? That's a really common issue! Remember that `>` and `>=` are similar, but they end up being one off from the other. Try playing around with that?\n",
    "- Remember that you're starting with two items in the list already."
   ]
  },
  {
   "cell_type": "code",
   "execution_count": null,
   "id": "30d59578-504f-4b8a-a29f-ddf644e34567",
   "metadata": {},
   "outputs": [],
   "source": []
  }
 ],
 "metadata": {
  "kernelspec": {
   "display_name": ".NET (C#)",
   "language": "C#",
   "name": ".net-csharp"
  },
  "language_info": {
   "file_extension": ".cs",
   "mimetype": "text/x-csharp",
   "name": "C#",
   "pygments_lexer": "csharp",
   "version": "10.0"
  }
 },
 "nbformat": 4,
 "nbformat_minor": 5
}
