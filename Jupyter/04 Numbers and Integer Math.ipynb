{
 "cells": [
  {
   "cell_type": "markdown",
   "id": "34ddd644-b866-46c1-b83c-2152def9fded",
   "metadata": {},
   "source": [
    "# Numbers and Integer Math\n",
    "\n",
    "## Integer Math\n",
    "\n",
    "You have a few `integers` defined below. An `integer` is a positive or negative whole number.\n",
    "> Before you run the code, what should c be?\n",
    "    \n",
    "## Addition"
   ]
  },
  {
   "cell_type": "code",
   "execution_count": 2,
   "id": "b0ca38f7-109a-4e08-9b05-20a87bbcf39a",
   "metadata": {},
   "outputs": [
    {
     "name": "stdout",
     "output_type": "stream",
     "text": [
      "24\n"
     ]
    }
   ],
   "source": [
    "int a = 18;\n",
    "int b = 6;\n",
    "int c = a + b;\n",
    "Console.WriteLine(c);"
   ]
  },
  {
   "cell_type": "markdown",
   "id": "31f17aab-f41c-4dda-9348-821bf867c334",
   "metadata": {},
   "source": [
    "## Subtraction"
   ]
  },
  {
   "cell_type": "code",
   "execution_count": 3,
   "id": "b4267068-b5c0-4f39-8af3-c38c970e7ff9",
   "metadata": {},
   "outputs": [
    {
     "name": "stdout",
     "output_type": "stream",
     "text": [
      "12\n"
     ]
    }
   ],
   "source": [
    "int c = a - b;\n",
    "Console.WriteLine(c);"
   ]
  },
  {
   "cell_type": "markdown",
   "id": "76494e87-b94b-4379-a226-ec4d407df2df",
   "metadata": {},
   "source": [
    "## Multiplication"
   ]
  },
  {
   "cell_type": "code",
   "execution_count": 4,
   "id": "3d948fe4-0bf6-4e77-ad6a-47e169cbe931",
   "metadata": {},
   "outputs": [
    {
     "name": "stdout",
     "output_type": "stream",
     "text": [
      "108\n"
     ]
    }
   ],
   "source": [
    "int c = a * b;\n",
    "Console.WriteLine(c);"
   ]
  },
  {
   "cell_type": "markdown",
   "id": "ac395801-16f3-4f1e-a749-c92be4173b58",
   "metadata": {},
   "source": [
    "## Division"
   ]
  },
  {
   "cell_type": "code",
   "execution_count": 5,
   "id": "b1562c44-49b4-4c8c-9361-260cd44ae84f",
   "metadata": {},
   "outputs": [
    {
     "name": "stdout",
     "output_type": "stream",
     "text": [
      "3\n"
     ]
    }
   ],
   "source": [
    "int c = a / b;\n",
    "Console.WriteLine(c);"
   ]
  },
  {
   "cell_type": "markdown",
   "id": "b4e00c27-dcd2-4850-9f45-23277fd3691d",
   "metadata": {},
   "source": [
    "# Order of operations\n",
    "\n",
    "C# follows the order of operation when it comes to math. That is, it does multiplication and division first, then addition and subtraction.\n",
    "> What would the math be if C# didn't follow the order of operation, and instead just did math left to right?"
   ]
  },
  {
   "cell_type": "code",
   "execution_count": 6,
   "id": "f7deaa02-306f-4600-8586-e74525c09008",
   "metadata": {},
   "outputs": [
    {
     "name": "stdout",
     "output_type": "stream",
     "text": [
      "13\n"
     ]
    }
   ],
   "source": [
    "int a = 5;\n",
    "int b = 4;\n",
    "int c = 2;\n",
    "int d = a + b * c;\n",
    "Console.WriteLine(d);"
   ]
  },
  {
   "cell_type": "markdown",
   "id": "5cec3aa5-9b4c-4d39-aea0-07203a59b384",
   "metadata": {},
   "source": [
    "## Using parenthesis\n",
    "\n",
    "You can also force different orders by putting parentheses around whatever you want done first"
   ]
  },
  {
   "cell_type": "code",
   "execution_count": 7,
   "id": "b2ba2f69-e5d8-4cc5-aae2-e0ab37619f05",
   "metadata": {},
   "outputs": [
    {
     "name": "stdout",
     "output_type": "stream",
     "text": [
      "18\n"
     ]
    }
   ],
   "source": [
    "int d = (a + b) * c;\n",
    "Console.WriteLine(d);"
   ]
  },
  {
   "cell_type": "markdown",
   "id": "fa7f9435-f981-48c0-9966-765a6c02f3ce",
   "metadata": {},
   "source": [
    "You can make math as long and complicated as you want.\n",
    "> Can you make this line even more complicated?"
   ]
  },
  {
   "cell_type": "code",
   "execution_count": 8,
   "id": "6c33963d-0937-4b79-ad1e-00cac6209887",
   "metadata": {},
   "outputs": [
    {
     "name": "stdout",
     "output_type": "stream",
     "text": [
      "25\n"
     ]
    }
   ],
   "source": [
    "int d = (a + b) - 6 * c + (12 * 4) / 3 + 12;\n",
    "Console.WriteLine(d);"
   ]
  },
  {
   "cell_type": "markdown",
   "id": "e4c9bf3a-dea7-4923-bbbd-170f0124ee53",
   "metadata": {},
   "source": [
    "## Integers: Whole numbers no matter what\n",
    "\n",
    "Integer math will always produce integers. What that means is that even when math should result in a decimal or fraction, the answer will be truncated to a whole number.\n",
    "> Check it out. WHat should the answer truly be?"
   ]
  },
  {
   "cell_type": "code",
   "execution_count": 9,
   "id": "06ea5b5d-7831-4196-b360-c5b6ecd0ad5a",
   "metadata": {},
   "outputs": [
    {
     "name": "stdout",
     "output_type": "stream",
     "text": [
      "3\n"
     ]
    }
   ],
   "source": [
    "int a = 7;\n",
    "int b = 4;\n",
    "int c = 3;\n",
    "int d = (a + b) / c;\n",
    "Console.WriteLine(d);"
   ]
  },
  {
   "cell_type": "code",
   "execution_count": null,
   "id": "828edec8-3f13-4ff6-bd2c-7784816473d3",
   "metadata": {},
   "outputs": [],
   "source": []
  }
 ],
 "metadata": {
  "kernelspec": {
   "display_name": ".NET (C#)",
   "language": "C#",
   "name": ".net-csharp"
  },
  "language_info": {
   "file_extension": ".cs",
   "mimetype": "text/x-csharp",
   "name": "C#",
   "pygments_lexer": "csharp",
   "version": "10.0"
  }
 },
 "nbformat": 4,
 "nbformat_minor": 5
}
