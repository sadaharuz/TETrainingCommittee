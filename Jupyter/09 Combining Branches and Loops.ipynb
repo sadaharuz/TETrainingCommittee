{
 "cells": [
  {
   "cell_type": "markdown",
   "id": "a82b22d7-2300-4fdf-9aab-2591a8e5294b",
   "metadata": {},
   "source": [
    "# Combining Branches and Loops\n",
    "## Tips and tricks\n",
    "\n",
    "- The `%` operator gives you the remainder of a division operation.\n",
    "- The `if` statement gives you the condition to see if a number should be part of the sum.\n",
    "- The `for` loop can help you repeat a series of steps for all the numbers 1 through 20.\n",
    "- Getting a weird answer? try making some print statements of your variables, to see it they're changing unexpectedly."
   ]
  },
  {
   "cell_type": "code",
   "execution_count": null,
   "id": "3059c33f-a9d9-499c-a2f8-e699b3ee726c",
   "metadata": {},
   "outputs": [],
   "source": []
  }
 ],
 "metadata": {
  "kernelspec": {
   "display_name": ".NET (C#)",
   "language": "C#",
   "name": ".net-csharp"
  },
  "language_info": {
   "file_extension": ".cs",
   "mimetype": "text/x-csharp",
   "name": "C#",
   "pygments_lexer": "csharp",
   "version": "10.0"
  }
 },
 "nbformat": 4,
 "nbformat_minor": 5
}
