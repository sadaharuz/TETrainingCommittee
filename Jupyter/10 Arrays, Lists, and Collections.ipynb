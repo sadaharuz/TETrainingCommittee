{
 "cells": [
  {
   "cell_type": "markdown",
   "id": "f17a59ec-7643-4076-922f-ade137c351c9",
   "metadata": {},
   "source": [
    "# Arrays, Lists, and Collections\n",
    "Arrays, lists, and collections can be pretty useful. Try looking at a list:\n",
    "> Run the following code. Does it print out what you expected?"
   ]
  },
  {
   "cell_type": "code",
   "execution_count": 1,
   "id": "3833a6bc-e289-4a45-9f6f-cfb55e780d78",
   "metadata": {},
   "outputs": [
    {
     "data": {
      "text/html": [
       "\r\n",
       "<div>\r\n",
       "    <div id='dotnet-interactive-this-cell-3447.Microsoft.DotNet.Interactive.Http.HttpPort' style='display: none'>\r\n",
       "        The below script needs to be able to find the current output cell; this is an easy method to get it.\r\n",
       "    </div>\r\n",
       "    <script type='text/javascript'>\r\n",
       "async function probeAddresses(probingAddresses) {\r\n",
       "    function timeout(ms, promise) {\r\n",
       "        return new Promise(function (resolve, reject) {\r\n",
       "            setTimeout(function () {\r\n",
       "                reject(new Error('timeout'))\r\n",
       "            }, ms)\r\n",
       "            promise.then(resolve, reject)\r\n",
       "        })\r\n",
       "    }\r\n",
       "\r\n",
       "    if (Array.isArray(probingAddresses)) {\r\n",
       "        for (let i = 0; i < probingAddresses.length; i++) {\r\n",
       "\r\n",
       "            let rootUrl = probingAddresses[i];\r\n",
       "\r\n",
       "            if (!rootUrl.endsWith('/')) {\r\n",
       "                rootUrl = `${rootUrl}/`;\r\n",
       "            }\r\n",
       "\r\n",
       "            try {\r\n",
       "                let response = await timeout(1000, fetch(`${rootUrl}discovery`, {\r\n",
       "                    method: 'POST',\r\n",
       "                    cache: 'no-cache',\r\n",
       "                    mode: 'cors',\r\n",
       "                    timeout: 1000,\r\n",
       "                    headers: {\r\n",
       "                        'Content-Type': 'text/plain'\r\n",
       "                    },\r\n",
       "                    body: probingAddresses[i]\r\n",
       "                }));\r\n",
       "\r\n",
       "                if (response.status == 200) {\r\n",
       "                    return rootUrl;\r\n",
       "                }\r\n",
       "            }\r\n",
       "            catch (e) { }\r\n",
       "        }\r\n",
       "    }\r\n",
       "}\r\n",
       "\r\n",
       "function loadDotnetInteractiveApi() {\r\n",
       "    probeAddresses([\"http://172.17.0.2:1011/\", \"http://127.0.0.1:1011/\"])\r\n",
       "        .then((root) => {\r\n",
       "        // use probing to find host url and api resources\r\n",
       "        // load interactive helpers and language services\r\n",
       "        let dotnetInteractiveRequire = require.config({\r\n",
       "        context: '3447.Microsoft.DotNet.Interactive.Http.HttpPort',\r\n",
       "                paths:\r\n",
       "            {\r\n",
       "                'dotnet-interactive': `${root}resources`\r\n",
       "                }\r\n",
       "        }) || require;\r\n",
       "\r\n",
       "            window.dotnetInteractiveRequire = dotnetInteractiveRequire;\r\n",
       "\r\n",
       "            window.configureRequireFromExtension = function(extensionName, extensionCacheBuster) {\r\n",
       "                let paths = {};\r\n",
       "                paths[extensionName] = `${root}extensions/${extensionName}/resources/`;\r\n",
       "                \r\n",
       "                let internalRequire = require.config({\r\n",
       "                    context: extensionCacheBuster,\r\n",
       "                    paths: paths,\r\n",
       "                    urlArgs: `cacheBuster=${extensionCacheBuster}`\r\n",
       "                    }) || require;\r\n",
       "\r\n",
       "                return internalRequire\r\n",
       "            };\r\n",
       "        \r\n",
       "            dotnetInteractiveRequire([\r\n",
       "                    'dotnet-interactive/dotnet-interactive'\r\n",
       "                ],\r\n",
       "                function (dotnet) {\r\n",
       "                    dotnet.init(window);\r\n",
       "                },\r\n",
       "                function (error) {\r\n",
       "                    console.log(error);\r\n",
       "                }\r\n",
       "            );\r\n",
       "        })\r\n",
       "        .catch(error => {console.log(error);});\r\n",
       "    }\r\n",
       "\r\n",
       "// ensure `require` is available globally\r\n",
       "if ((typeof(require) !==  typeof(Function)) || (typeof(require.config) !== typeof(Function))) {\r\n",
       "    let require_script = document.createElement('script');\r\n",
       "    require_script.setAttribute('src', 'https://cdnjs.cloudflare.com/ajax/libs/require.js/2.3.6/require.min.js');\r\n",
       "    require_script.setAttribute('type', 'text/javascript');\r\n",
       "    \r\n",
       "    \r\n",
       "    require_script.onload = function() {\r\n",
       "        loadDotnetInteractiveApi();\r\n",
       "    };\r\n",
       "\r\n",
       "    document.getElementsByTagName('head')[0].appendChild(require_script);\r\n",
       "}\r\n",
       "else {\r\n",
       "    loadDotnetInteractiveApi();\r\n",
       "}\r\n",
       "\r\n",
       "    </script>\r\n",
       "</div>"
      ]
     },
     "metadata": {},
     "output_type": "display_data"
    },
    {
     "name": "stdout",
     "output_type": "stream",
     "text": [
      "Hello <NAME>!\n",
      "Hello ANA!\n",
      "Hello FELIPE!\n"
     ]
    }
   ],
   "source": [
    "using System;\n",
    "using System.Collections.Generic;\n",
    "\n",
    "var names = new List<string> { \"<name>\", \"Ana\", \"Felipe\" };\n",
    "foreach (var name in names)\n",
    "{\n",
    "    Console.WriteLine($\"Hello {name.ToUpper()}!\");\n",
    "}"
   ]
  },
  {
   "cell_type": "markdown",
   "id": "81ab8681-e274-4d7c-be0e-87eeb1eaf6a2",
   "metadata": {},
   "source": [
    "## So what does that code mean?\n",
    "\n",
    "- **System.collections.Generic**: This is a namespace that has lists in it. If you don't tell the code that you're using it, you have to write \"Systems.Collections.Generic.List\" every time you want to use a list. This saves some typing!\n",
    "- **var**: It's what you put when you have a variable, but don't know/care what the variable type is.\n",
    "- **List\\<string\\>**: This means that you're making a list of strings. In place of `string`, you can put in `int`, `double`, or any other variable.\n",
    "- **foreach**: This is another for loop! It goes through every item in a list.\n",
    "- **name in names**: This is a style that a lot of people prefer. `names` is the whole list that contains plural names. `name` is an individual item in `names`."
   ]
  },
  {
   "cell_type": "markdown",
   "id": "62e38379-5b11-4162-bdd6-7076cb4f7dd5",
   "metadata": {},
   "source": [
    "## Alternative method\n",
    "\n",
    "The previous code is a bit more clear to read for human than the code below, but the code below has some more recognizable code, based off of what we've learned.\n",
    "These are really just two different styles of writing the same code. Feel free to use whatever makes the most sense to you!\n",
    "> Run the following code.\n",
    ">\n",
    "> Can you identify similar parts of code between the two different methods?\n",
    ">\n",
    "> Which method do you prefer?"
   ]
  },
  {
   "cell_type": "code",
   "execution_count": 2,
   "id": "7799e9f2-8198-4b58-ae0d-5b7e4521c47d",
   "metadata": {},
   "outputs": [
    {
     "name": "stdout",
     "output_type": "stream",
     "text": [
      "Hello <NAME>\n",
      "Hello ANA\n",
      "Hello FELIPE\n"
     ]
    }
   ],
   "source": [
    "using System;\n",
    "using System.Collections.Generic;\n",
    "\n",
    "var names = new List<string> { \"<name>\", \"Ana\", \"Felipe\" };\n",
    "for (int i = 0;i < names.Count; i++)\n",
    "{\n",
    "    Console.WriteLine($\"Hello {names[i].ToUpper()}\");\n",
    "}"
   ]
  },
  {
   "cell_type": "markdown",
   "id": "f2a2205e-d973-4761-acf7-d00cb0eea647",
   "metadata": {},
   "source": [
    "## Add\n",
    "\n",
    "You can add names to lists pretty easily. Lists have the method `Add()`, which tacks on a new item to the end of the list.\n",
    "> Run the code.\n",
    ">\n",
    "> Then try adding your own name instead."
   ]
  },
  {
   "cell_type": "code",
   "execution_count": 3,
   "id": "80821532-8bb1-478a-a422-5f914f75552c",
   "metadata": {},
   "outputs": [
    {
     "name": "stdout",
     "output_type": "stream",
     "text": [
      "Hello <NAME>!\n",
      "Hello ANA!\n",
      "Hello FELIPE!\n",
      "Hello SOPHIA!\n"
     ]
    }
   ],
   "source": [
    "var names = new List<string> { \"<name>\", \"Ana\", \"Felipe\" };\n",
    "\n",
    "names.Add(\"Sophia\");\n",
    "\n",
    "foreach (var name in names)\n",
    "{\n",
    "    Console.WriteLine($\"Hello {name.ToUpper()}!\");\n",
    "}"
   ]
  },
  {
   "cell_type": "markdown",
   "id": "f0f6c746-5ba8-4066-964d-2c5344973b3e",
   "metadata": {},
   "source": [
    "## Remove\n",
    "\n",
    "You can also remove names. Try that out:\n",
    "\n",
    "> Run the code.\n",
    ">\n",
    "> Then choose which name you want removed.\n",
    ">\n",
    "> What happens when you try to remove something that isn't there?"
   ]
  },
  {
   "cell_type": "code",
   "execution_count": 4,
   "id": "1295210c-2a28-4d70-84db-1dcda32e22ea",
   "metadata": {},
   "outputs": [
    {
     "name": "stdout",
     "output_type": "stream",
     "text": [
      "Hello ANA\n",
      "Hello FELIPE\n"
     ]
    }
   ],
   "source": [
    "var names = new List<string> { \"<name>\", \"Ana\", \"Felipe\" };\n",
    "\n",
    "names.Remove(\"<name>\");\n",
    "\n",
    "for (int i = 0;i < names.Count; i++)\n",
    "{\n",
    "    Console.WriteLine($\"Hello {names[i].ToUpper()}\");\n",
    "}"
   ]
  },
  {
   "cell_type": "markdown",
   "id": "30630739-aae8-47ad-9b07-f4deb030de92",
   "metadata": {},
   "source": [
    "## Printing a specific item\n",
    "\n",
    "What if you don't want to print out all of your friends? What if you just want to print out one friend? That's where brackets come in.\n",
    "> Run the code.\n",
    ">\n",
    "> Try printing a different spot in the list.\n",
    ">\n",
    "> Do you need a 0 or 1 to print the first item in a list?"
   ]
  },
  {
   "cell_type": "code",
   "execution_count": 5,
   "id": "a2853d73-c950-4f91-9fef-9c4a16825fab",
   "metadata": {},
   "outputs": [
    {
     "name": "stdout",
     "output_type": "stream",
     "text": [
      "Sophia\n"
     ]
    }
   ],
   "source": [
    "var names = new List<string> { \"<name>\", \"Sophia\", \"Felipe\" };\n",
    "Console.WriteLine(names[1]);"
   ]
  },
  {
   "cell_type": "markdown",
   "id": "3a249603-6b58-4cd3-9b32-cf560e508588",
   "metadata": {},
   "source": [
    "Don't forget that lists are \"0\" based. The first spot is the \"0th\" spot."
   ]
  },
  {
   "cell_type": "code",
   "execution_count": null,
   "id": "8b177368-3a50-43ca-8303-ee4c31e87712",
   "metadata": {},
   "outputs": [],
   "source": []
  }
 ],
 "metadata": {
  "kernelspec": {
   "display_name": ".NET (C#)",
   "language": "C#",
   "name": ".net-csharp"
  },
  "language_info": {
   "file_extension": ".cs",
   "mimetype": "text/x-csharp",
   "name": "C#",
   "pygments_lexer": "csharp",
   "version": "10.0"
  }
 },
 "nbformat": 4,
 "nbformat_minor": 5
}
