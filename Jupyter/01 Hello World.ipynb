{
 "cells": [
  {
   "cell_type": "markdown",
   "id": "91ae60ac-bf90-4ecf-a9af-2787d46fbe9a",
   "metadata": {
    "tags": []
   },
   "source": [
    "# Hello World\n",
    "\n",
    "## What do you do with this notebook?\n",
    "\n",
    "This notebook is intended to help you learn the coding language C#. You can:\n",
    "\n",
    "- Work through these notebooks on your own.\n",
    "- Work through them while watching the C# 101 videos.\n",
    "- Use these notebooks as prompts to write your own code in Visual Studio.\n",
    "\n",
    "## What is C#?\n",
    "\n",
    "It's a powerful and widely used programming language that you can use to make websites, games, mobile apps, desktop apps, and more. C# is part of the .NET programming platform, which includes libraries for all those applications. Learn C#, get started, and it'll give you the world.\n",
    "\n",
    "## C#: Hello World\n"
   ]
  },
  {
   "cell_type": "code",
   "execution_count": 1,
   "id": "ab132f4a-d6fa-4b55-aa22-6787857c6fe6",
   "metadata": {
    "tags": []
   },
   "outputs": [
    {
     "data": {
      "text/html": [
       "\r\n",
       "<div>\r\n",
       "    <div id='dotnet-interactive-this-cell-598.Microsoft.DotNet.Interactive.Http.HttpPort' style='display: none'>\r\n",
       "        The below script needs to be able to find the current output cell; this is an easy method to get it.\r\n",
       "    </div>\r\n",
       "    <script type='text/javascript'>\r\n",
       "async function probeAddresses(probingAddresses) {\r\n",
       "    function timeout(ms, promise) {\r\n",
       "        return new Promise(function (resolve, reject) {\r\n",
       "            setTimeout(function () {\r\n",
       "                reject(new Error('timeout'))\r\n",
       "            }, ms)\r\n",
       "            promise.then(resolve, reject)\r\n",
       "        })\r\n",
       "    }\r\n",
       "\r\n",
       "    if (Array.isArray(probingAddresses)) {\r\n",
       "        for (let i = 0; i < probingAddresses.length; i++) {\r\n",
       "\r\n",
       "            let rootUrl = probingAddresses[i];\r\n",
       "\r\n",
       "            if (!rootUrl.endsWith('/')) {\r\n",
       "                rootUrl = `${rootUrl}/`;\r\n",
       "            }\r\n",
       "\r\n",
       "            try {\r\n",
       "                let response = await timeout(1000, fetch(`${rootUrl}discovery`, {\r\n",
       "                    method: 'POST',\r\n",
       "                    cache: 'no-cache',\r\n",
       "                    mode: 'cors',\r\n",
       "                    timeout: 1000,\r\n",
       "                    headers: {\r\n",
       "                        'Content-Type': 'text/plain'\r\n",
       "                    },\r\n",
       "                    body: probingAddresses[i]\r\n",
       "                }));\r\n",
       "\r\n",
       "                if (response.status == 200) {\r\n",
       "                    return rootUrl;\r\n",
       "                }\r\n",
       "            }\r\n",
       "            catch (e) { }\r\n",
       "        }\r\n",
       "    }\r\n",
       "}\r\n",
       "\r\n",
       "function loadDotnetInteractiveApi() {\r\n",
       "    probeAddresses([\"http://172.17.0.2:1001/\", \"http://127.0.0.1:1001/\"])\r\n",
       "        .then((root) => {\r\n",
       "        // use probing to find host url and api resources\r\n",
       "        // load interactive helpers and language services\r\n",
       "        let dotnetInteractiveRequire = require.config({\r\n",
       "        context: '598.Microsoft.DotNet.Interactive.Http.HttpPort',\r\n",
       "                paths:\r\n",
       "            {\r\n",
       "                'dotnet-interactive': `${root}resources`\r\n",
       "                }\r\n",
       "        }) || require;\r\n",
       "\r\n",
       "            window.dotnetInteractiveRequire = dotnetInteractiveRequire;\r\n",
       "\r\n",
       "            window.configureRequireFromExtension = function(extensionName, extensionCacheBuster) {\r\n",
       "                let paths = {};\r\n",
       "                paths[extensionName] = `${root}extensions/${extensionName}/resources/`;\r\n",
       "                \r\n",
       "                let internalRequire = require.config({\r\n",
       "                    context: extensionCacheBuster,\r\n",
       "                    paths: paths,\r\n",
       "                    urlArgs: `cacheBuster=${extensionCacheBuster}`\r\n",
       "                    }) || require;\r\n",
       "\r\n",
       "                return internalRequire\r\n",
       "            };\r\n",
       "        \r\n",
       "            dotnetInteractiveRequire([\r\n",
       "                    'dotnet-interactive/dotnet-interactive'\r\n",
       "                ],\r\n",
       "                function (dotnet) {\r\n",
       "                    dotnet.init(window);\r\n",
       "                },\r\n",
       "                function (error) {\r\n",
       "                    console.log(error);\r\n",
       "                }\r\n",
       "            );\r\n",
       "        })\r\n",
       "        .catch(error => {console.log(error);});\r\n",
       "    }\r\n",
       "\r\n",
       "// ensure `require` is available globally\r\n",
       "if ((typeof(require) !==  typeof(Function)) || (typeof(require.config) !== typeof(Function))) {\r\n",
       "    let require_script = document.createElement('script');\r\n",
       "    require_script.setAttribute('src', 'https://cdnjs.cloudflare.com/ajax/libs/require.js/2.3.6/require.min.js');\r\n",
       "    require_script.setAttribute('type', 'text/javascript');\r\n",
       "    \r\n",
       "    \r\n",
       "    require_script.onload = function() {\r\n",
       "        loadDotnetInteractiveApi();\r\n",
       "    };\r\n",
       "\r\n",
       "    document.getElementsByTagName('head')[0].appendChild(require_script);\r\n",
       "}\r\n",
       "else {\r\n",
       "    loadDotnetInteractiveApi();\r\n",
       "}\r\n",
       "\r\n",
       "    </script>\r\n",
       "</div>"
      ]
     },
     "metadata": {},
     "output_type": "display_data"
    },
    {
     "name": "stdout",
     "output_type": "stream",
     "text": [
      "Hello World!\n"
     ]
    }
   ],
   "source": [
    "Console.WriteLine(\"Hello World!\");"
   ]
  },
  {
   "cell_type": "markdown",
   "id": "ba9a82c2-7e94-4314-a8f7-d74e2f734647",
   "metadata": {
    "tags": []
   },
   "source": [
    "`Console.WriteLine` is a method that is used to print a message to a text console. In this case, you specified \"Hello World\" as the output.\n",
    "\n",
    "# Declare and use variables\n",
    "\n",
    "A **variable** is a symbol you can use to run the same code with different values. For example, you can declare a new variable named `aFriend` that you can use with `Console.WriteLine` to output a string. You can declare this variable by using the type `string` or by using the `var` keyword that will automatically figure out the type for you.\n",
    "\n",
    "> Go ahead and run the following code to see the output of **Jayme**.\n",
    ">\n",
    "> Next, change the name in the variable and run it again to see something different."
   ]
  },
  {
   "cell_type": "code",
   "execution_count": 2,
   "id": "94a98857-71af-4fd4-a6d0-76a4798313d0",
   "metadata": {
    "tags": []
   },
   "outputs": [
    {
     "name": "stdout",
     "output_type": "stream",
     "text": [
      "Jayme\n"
     ]
    }
   ],
   "source": [
    "var aFriend = \"Jayme\";\n",
    "Console.WriteLine(aFriend);"
   ]
  },
  {
   "cell_type": "markdown",
   "id": "fc358933-3b03-48e1-bda4-48224955338c",
   "metadata": {},
   "source": [
    "# Combining Strings\n",
    "\n",
    "You may have noticed that the word \"Hello\" was missing from the last code block. You can fix it by combining multiple string together using `+` to create a new string that it output to the console.\n"
   ]
  },
  {
   "cell_type": "code",
   "execution_count": 3,
   "id": "8a6a0aac-0dcc-4664-b0cc-d5410abc8728",
   "metadata": {},
   "outputs": [
    {
     "name": "stdout",
     "output_type": "stream",
     "text": [
      "Hello Jayme!\n"
     ]
    }
   ],
   "source": [
    "Console.WriteLine(\"Hello \" + aFriend + \"!\");"
   ]
  },
  {
   "cell_type": "markdown",
   "id": "cd3da848-aa9a-4414-886e-fa9b205f947e",
   "metadata": {},
   "source": [
    "# String Interpolation\n",
    "\n",
    "You just used `+` to build a new string from a **variable** and a **constant**. There's a better way to do this by placing the variable between `{`and `}` to tell C# to replace that text with the value of the variable. This is called **string interpolation**. You can then add a `$` before the opening quote to enable string interpolation for the string."
   ]
  },
  {
   "cell_type": "code",
   "execution_count": 4,
   "id": "7588b8d4-f5f8-4a66-af54-63e7cc90dfc7",
   "metadata": {},
   "outputs": [
    {
     "name": "stdout",
     "output_type": "stream",
     "text": [
      "Hello string interpolation!\n"
     ]
    }
   ],
   "source": [
    "aFriend = \"string interpolation\";\n",
    "Console.WriteLine($\"Hello {aFriend}!\");"
   ]
  },
  {
   "cell_type": "code",
   "execution_count": null,
   "id": "4fe0a777-40d6-4fd8-8b8d-f352a37473f0",
   "metadata": {},
   "outputs": [],
   "source": []
  }
 ],
 "metadata": {
  "kernelspec": {
   "display_name": ".NET (C#)",
   "language": "C#",
   "name": ".net-csharp"
  },
  "language_info": {
   "file_extension": ".cs",
   "mimetype": "text/x-csharp",
   "name": "C#",
   "pygments_lexer": "csharp",
   "version": "10.0"
  }
 },
 "nbformat": 4,
 "nbformat_minor": 5
}
