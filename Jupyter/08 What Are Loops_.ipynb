{
 "cells": [
  {
   "cell_type": "markdown",
   "id": "fd08868a-a64a-4886-b864-b944788e24f1",
   "metadata": {},
   "source": [
    "# What Are Loops?\n",
    "Loops are a way to repeat an action multiple times. You can use `while` to do that.\n",
    "> Try out this first loop:"
   ]
  },
  {
   "cell_type": "code",
   "execution_count": 1,
   "id": "757d26fa-3746-42f4-ada9-d5b6e8217627",
   "metadata": {},
   "outputs": [
    {
     "data": {
      "text/html": [
       "\r\n",
       "<div>\r\n",
       "    <div id='dotnet-interactive-this-cell-3014.Microsoft.DotNet.Interactive.Http.HttpPort' style='display: none'>\r\n",
       "        The below script needs to be able to find the current output cell; this is an easy method to get it.\r\n",
       "    </div>\r\n",
       "    <script type='text/javascript'>\r\n",
       "async function probeAddresses(probingAddresses) {\r\n",
       "    function timeout(ms, promise) {\r\n",
       "        return new Promise(function (resolve, reject) {\r\n",
       "            setTimeout(function () {\r\n",
       "                reject(new Error('timeout'))\r\n",
       "            }, ms)\r\n",
       "            promise.then(resolve, reject)\r\n",
       "        })\r\n",
       "    }\r\n",
       "\r\n",
       "    if (Array.isArray(probingAddresses)) {\r\n",
       "        for (let i = 0; i < probingAddresses.length; i++) {\r\n",
       "\r\n",
       "            let rootUrl = probingAddresses[i];\r\n",
       "\r\n",
       "            if (!rootUrl.endsWith('/')) {\r\n",
       "                rootUrl = `${rootUrl}/`;\r\n",
       "            }\r\n",
       "\r\n",
       "            try {\r\n",
       "                let response = await timeout(1000, fetch(`${rootUrl}discovery`, {\r\n",
       "                    method: 'POST',\r\n",
       "                    cache: 'no-cache',\r\n",
       "                    mode: 'cors',\r\n",
       "                    timeout: 1000,\r\n",
       "                    headers: {\r\n",
       "                        'Content-Type': 'text/plain'\r\n",
       "                    },\r\n",
       "                    body: probingAddresses[i]\r\n",
       "                }));\r\n",
       "\r\n",
       "                if (response.status == 200) {\r\n",
       "                    return rootUrl;\r\n",
       "                }\r\n",
       "            }\r\n",
       "            catch (e) { }\r\n",
       "        }\r\n",
       "    }\r\n",
       "}\r\n",
       "\r\n",
       "function loadDotnetInteractiveApi() {\r\n",
       "    probeAddresses([\"http://172.17.0.2:1009/\", \"http://127.0.0.1:1009/\"])\r\n",
       "        .then((root) => {\r\n",
       "        // use probing to find host url and api resources\r\n",
       "        // load interactive helpers and language services\r\n",
       "        let dotnetInteractiveRequire = require.config({\r\n",
       "        context: '3014.Microsoft.DotNet.Interactive.Http.HttpPort',\r\n",
       "                paths:\r\n",
       "            {\r\n",
       "                'dotnet-interactive': `${root}resources`\r\n",
       "                }\r\n",
       "        }) || require;\r\n",
       "\r\n",
       "            window.dotnetInteractiveRequire = dotnetInteractiveRequire;\r\n",
       "\r\n",
       "            window.configureRequireFromExtension = function(extensionName, extensionCacheBuster) {\r\n",
       "                let paths = {};\r\n",
       "                paths[extensionName] = `${root}extensions/${extensionName}/resources/`;\r\n",
       "                \r\n",
       "                let internalRequire = require.config({\r\n",
       "                    context: extensionCacheBuster,\r\n",
       "                    paths: paths,\r\n",
       "                    urlArgs: `cacheBuster=${extensionCacheBuster}`\r\n",
       "                    }) || require;\r\n",
       "\r\n",
       "                return internalRequire\r\n",
       "            };\r\n",
       "        \r\n",
       "            dotnetInteractiveRequire([\r\n",
       "                    'dotnet-interactive/dotnet-interactive'\r\n",
       "                ],\r\n",
       "                function (dotnet) {\r\n",
       "                    dotnet.init(window);\r\n",
       "                },\r\n",
       "                function (error) {\r\n",
       "                    console.log(error);\r\n",
       "                }\r\n",
       "            );\r\n",
       "        })\r\n",
       "        .catch(error => {console.log(error);});\r\n",
       "    }\r\n",
       "\r\n",
       "// ensure `require` is available globally\r\n",
       "if ((typeof(require) !==  typeof(Function)) || (typeof(require.config) !== typeof(Function))) {\r\n",
       "    let require_script = document.createElement('script');\r\n",
       "    require_script.setAttribute('src', 'https://cdnjs.cloudflare.com/ajax/libs/require.js/2.3.6/require.min.js');\r\n",
       "    require_script.setAttribute('type', 'text/javascript');\r\n",
       "    \r\n",
       "    \r\n",
       "    require_script.onload = function() {\r\n",
       "        loadDotnetInteractiveApi();\r\n",
       "    };\r\n",
       "\r\n",
       "    document.getElementsByTagName('head')[0].appendChild(require_script);\r\n",
       "}\r\n",
       "else {\r\n",
       "    loadDotnetInteractiveApi();\r\n",
       "}\r\n",
       "\r\n",
       "    </script>\r\n",
       "</div>"
      ]
     },
     "metadata": {},
     "output_type": "display_data"
    },
    {
     "name": "stdout",
     "output_type": "stream",
     "text": [
      "Hello World! The counter is 0\n",
      "Hello World! The counter is 1\n",
      "Hello World! The counter is 2\n",
      "Hello World! The counter is 3\n",
      "Hello World! The counter is 4\n",
      "Hello World! The counter is 5\n",
      "Hello World! The counter is 6\n",
      "Hello World! The counter is 7\n",
      "Hello World! The counter is 8\n",
      "Hello World! The counter is 9\n"
     ]
    }
   ],
   "source": [
    "int counter = 0;\n",
    "while (counter < 10)\n",
    "{\n",
    "  Console.WriteLine($\"Hello World! The counter is {counter}\");\n",
    "  counter++;\n",
    "}"
   ]
  },
  {
   "cell_type": "markdown",
   "id": "fa93ec95-190f-4bc2-bee4-19d31503d742",
   "metadata": {},
   "source": [
    "So what happened here? `while` checks if the condition ('counter < 10') is true. If it is, it goes through the loop. Then it checks it again. It will keep going through the loop until the condition is false.\n",
    "When figuring out branches and loops, it can be helpful to put code into human language. This code is saying: \"Set up counter to equal 0. While the counter is less than 10, print 'Hello World! the counter is {counter}' and then increase the counter by 1\".\n",
    "\n",
    "## ++\n",
    "\n",
    "`++` is a quick quick way to add one to a variable. You can also do the same with `--`, which subtracts one from the variable.\n",
    "\n",
    "## Infinite loops\n",
    "\n",
    "It's easy to accidentally make an infinite loop. **Editors note: You can't tell them to create an infinite loop, because the notebook doesn't ever stop itself** If you hit an infinite loop, you have two options: you can always exit out of your program, or you can hit CTRL+C.\n",
    "\n",
    "> Challenge: You can't show one on this notebook, because the code doesn't catch itself, but as a challenge, try making an infinite loop in Visual Studio! What are the different ways you might accidentally make it infinite? It can be scary to make a mistake, but always know you can CTRL+C or exit the program.\n",
    "\n",
    "## do\n",
    "\n",
    "You can also make a loop with `do`.\n",
    "> Try out the following code and see if there's anything different between this and the `while` loop."
   ]
  },
  {
   "cell_type": "code",
   "execution_count": 3,
   "id": "0b12cf8b-597a-4389-b9df-8e918f19f71c",
   "metadata": {},
   "outputs": [
    {
     "name": "stdout",
     "output_type": "stream",
     "text": [
      "Hello World! The counter is 0\n",
      "Hello World! The counter is 1\n",
      "Hello World! The counter is 2\n",
      "Hello World! The counter is 3\n",
      "Hello World! The counter is 4\n",
      "Hello World! The counter is 5\n",
      "Hello World! The counter is 6\n",
      "Hello World! The counter is 7\n",
      "Hello World! The counter is 8\n",
      "Hello World! The counter is 9\n"
     ]
    }
   ],
   "source": [
    "int counter = 0;\n",
    "do\n",
    "{\n",
    "  Console.WriteLine($\"Hello World! The counter is {counter}\");\n",
    "  counter++;\n",
    "} while (counter < 10);"
   ]
  },
  {
   "cell_type": "markdown",
   "id": "e5146dbf-1425-4931-84a6-fb3edf8ecc8a",
   "metadata": {},
   "source": [
    "Hmm, nothing much seems to different, right?\n",
    "\n",
    "> Try changing the conditional to `(counter < 0)` on both codes. What happens?\n",
    "\n",
    "In the `while` loop, nothing is printed out, but in the `do` loop, you get one print out. The `do` loop does the action first, then checks the conditional. In contrast, the `while` loop checks the conditional first, then does an action.\n",
    "\n",
    "## for loop\n",
    "\n",
    "`for` is one the most common loops. It will repeat an action for a specific amount of turns. It can look a little intimidating.\n",
    "> Before you learn all the ins and outs of the code, run the following for loop just to see it working:"
   ]
  },
  {
   "cell_type": "code",
   "execution_count": 4,
   "id": "8092c456-859a-4bc4-9eec-9ba110558047",
   "metadata": {},
   "outputs": [
    {
     "name": "stdout",
     "output_type": "stream",
     "text": [
      "Hello World! The counter is 0\n",
      "Hello World! The counter is 1\n",
      "Hello World! The counter is 2\n",
      "Hello World! The counter is 3\n",
      "Hello World! The counter is 4\n",
      "Hello World! The counter is 5\n",
      "Hello World! The counter is 6\n",
      "Hello World! The counter is 7\n",
      "Hello World! The counter is 8\n",
      "Hello World! The counter is 9\n"
     ]
    }
   ],
   "source": [
    "for (int counter = 0; counter < 10; counter++)\n",
    "{\n",
    "  Console.WriteLine($\"Hello World! The counter is {counter}\");\n",
    "}"
   ]
  },
  {
   "cell_type": "markdown",
   "id": "0cddbfd5-a9d3-4510-a64d-7aec4c6255bc",
   "metadata": {},
   "source": [
    "### What's in the parentheses?\n",
    "\n",
    "There are three parts in the `for` loop parentheses: `int counter = 0`, `counter < 10`, and `counter++`.\n",
    "You can think of them as the start point, the end point, and the step size.\n",
    "`int counter = 0` is just setting up the counter. You're starting at 0.\n",
    "`counter < 10` is the conditional that gets checked at the start of every loop. Once the conditional is false (in this case, once counter is not less than 10), the loop is done and the code moves on.\n",
    "`counter++` is increasing counter by one, taking one step closer to the end. The step is taken at the end of each loop.\n",
    "> Try messing with the `for` loop set up. How does it change?"
   ]
  },
  {
   "cell_type": "code",
   "execution_count": null,
   "id": "a7667921-de07-4c3c-9a9a-5c1e88b79c01",
   "metadata": {},
   "outputs": [],
   "source": []
  }
 ],
 "metadata": {
  "kernelspec": {
   "display_name": ".NET (C#)",
   "language": "C#",
   "name": ".net-csharp"
  },
  "language_info": {
   "file_extension": ".cs",
   "mimetype": "text/x-csharp",
   "name": "C#",
   "pygments_lexer": "csharp",
   "version": "10.0"
  }
 },
 "nbformat": 4,
 "nbformat_minor": 5
}
