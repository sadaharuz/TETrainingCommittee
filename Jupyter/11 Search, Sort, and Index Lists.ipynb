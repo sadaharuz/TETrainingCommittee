{
 "cells": [
  {
   "cell_type": "markdown",
   "id": "e2a0a002-e45a-4622-8b04-450b3767d896",
   "metadata": {},
   "source": [
    "# Search, Sort, and Index Lists\n",
    "## Search\n",
    "\n",
    "In the last notebook, you learned how to find what item was stored at a specific index. Now, given an item, find out its index.\n",
    "\n",
    "> Run the code\n",
    ">\n",
    "> What index is Sophia at?\n",
    ">\n",
    "> What index is \"Scott\" at?"
   ]
  },
  {
   "cell_type": "code",
   "execution_count": 1,
   "id": "cdb16d5b-a3d8-457e-a2f4-3bc42774f4e3",
   "metadata": {},
   "outputs": [
    {
     "data": {
      "text/html": [
       "\r\n",
       "<div>\r\n",
       "    <div id='dotnet-interactive-this-cell-3691.Microsoft.DotNet.Interactive.Http.HttpPort' style='display: none'>\r\n",
       "        The below script needs to be able to find the current output cell; this is an easy method to get it.\r\n",
       "    </div>\r\n",
       "    <script type='text/javascript'>\r\n",
       "async function probeAddresses(probingAddresses) {\r\n",
       "    function timeout(ms, promise) {\r\n",
       "        return new Promise(function (resolve, reject) {\r\n",
       "            setTimeout(function () {\r\n",
       "                reject(new Error('timeout'))\r\n",
       "            }, ms)\r\n",
       "            promise.then(resolve, reject)\r\n",
       "        })\r\n",
       "    }\r\n",
       "\r\n",
       "    if (Array.isArray(probingAddresses)) {\r\n",
       "        for (let i = 0; i < probingAddresses.length; i++) {\r\n",
       "\r\n",
       "            let rootUrl = probingAddresses[i];\r\n",
       "\r\n",
       "            if (!rootUrl.endsWith('/')) {\r\n",
       "                rootUrl = `${rootUrl}/`;\r\n",
       "            }\r\n",
       "\r\n",
       "            try {\r\n",
       "                let response = await timeout(1000, fetch(`${rootUrl}discovery`, {\r\n",
       "                    method: 'POST',\r\n",
       "                    cache: 'no-cache',\r\n",
       "                    mode: 'cors',\r\n",
       "                    timeout: 1000,\r\n",
       "                    headers: {\r\n",
       "                        'Content-Type': 'text/plain'\r\n",
       "                    },\r\n",
       "                    body: probingAddresses[i]\r\n",
       "                }));\r\n",
       "\r\n",
       "                if (response.status == 200) {\r\n",
       "                    return rootUrl;\r\n",
       "                }\r\n",
       "            }\r\n",
       "            catch (e) { }\r\n",
       "        }\r\n",
       "    }\r\n",
       "}\r\n",
       "\r\n",
       "function loadDotnetInteractiveApi() {\r\n",
       "    probeAddresses([\"http://172.17.0.2:1012/\", \"http://127.0.0.1:1012/\"])\r\n",
       "        .then((root) => {\r\n",
       "        // use probing to find host url and api resources\r\n",
       "        // load interactive helpers and language services\r\n",
       "        let dotnetInteractiveRequire = require.config({\r\n",
       "        context: '3691.Microsoft.DotNet.Interactive.Http.HttpPort',\r\n",
       "                paths:\r\n",
       "            {\r\n",
       "                'dotnet-interactive': `${root}resources`\r\n",
       "                }\r\n",
       "        }) || require;\r\n",
       "\r\n",
       "            window.dotnetInteractiveRequire = dotnetInteractiveRequire;\r\n",
       "\r\n",
       "            window.configureRequireFromExtension = function(extensionName, extensionCacheBuster) {\r\n",
       "                let paths = {};\r\n",
       "                paths[extensionName] = `${root}extensions/${extensionName}/resources/`;\r\n",
       "                \r\n",
       "                let internalRequire = require.config({\r\n",
       "                    context: extensionCacheBuster,\r\n",
       "                    paths: paths,\r\n",
       "                    urlArgs: `cacheBuster=${extensionCacheBuster}`\r\n",
       "                    }) || require;\r\n",
       "\r\n",
       "                return internalRequire\r\n",
       "            };\r\n",
       "        \r\n",
       "            dotnetInteractiveRequire([\r\n",
       "                    'dotnet-interactive/dotnet-interactive'\r\n",
       "                ],\r\n",
       "                function (dotnet) {\r\n",
       "                    dotnet.init(window);\r\n",
       "                },\r\n",
       "                function (error) {\r\n",
       "                    console.log(error);\r\n",
       "                }\r\n",
       "            );\r\n",
       "        })\r\n",
       "        .catch(error => {console.log(error);});\r\n",
       "    }\r\n",
       "\r\n",
       "// ensure `require` is available globally\r\n",
       "if ((typeof(require) !==  typeof(Function)) || (typeof(require.config) !== typeof(Function))) {\r\n",
       "    let require_script = document.createElement('script');\r\n",
       "    require_script.setAttribute('src', 'https://cdnjs.cloudflare.com/ajax/libs/require.js/2.3.6/require.min.js');\r\n",
       "    require_script.setAttribute('type', 'text/javascript');\r\n",
       "    \r\n",
       "    \r\n",
       "    require_script.onload = function() {\r\n",
       "        loadDotnetInteractiveApi();\r\n",
       "    };\r\n",
       "\r\n",
       "    document.getElementsByTagName('head')[0].appendChild(require_script);\r\n",
       "}\r\n",
       "else {\r\n",
       "    loadDotnetInteractiveApi();\r\n",
       "}\r\n",
       "\r\n",
       "    </script>\r\n",
       "</div>"
      ]
     },
     "metadata": {},
     "output_type": "display_data"
    },
    {
     "name": "stdout",
     "output_type": "stream",
     "text": [
      "Found Ana at 1\n"
     ]
    }
   ],
   "source": [
    "using System;\n",
    "using System.Collections.Generic;\n",
    "var names = new List<string> { \"Sophia\", \"Ana\", \"Jayme\", \"Bill\" };\n",
    "string name = \"Ana\";\n",
    "var index = names.IndexOf(name);\n",
    "Console.WriteLine($\"Found {name} at {index}\");"
   ]
  },
  {
   "cell_type": "markdown",
   "id": "ca5cbb14-0eae-4045-a98a-c129dee17bee",
   "metadata": {},
   "source": [
    "## What does -1 mean?\n",
    "\n",
    "If `IndexOf()` returns -1, then that means it couldn't find the item in the list. In fact, you can make a little if statement that works in not finding the item:\n",
    "\n",
    "> Run the code.\n",
    ">\n",
    "> Try out a few different names."
   ]
  },
  {
   "cell_type": "code",
   "execution_count": 2,
   "id": "958241b3-42c6-4252-b1c6-e55440aeae7e",
   "metadata": {},
   "outputs": [
    {
     "name": "stdout",
     "output_type": "stream",
     "text": [
      "Scott not found\n"
     ]
    }
   ],
   "source": [
    "var names = new List<string> { \"Sophia\", \"Ana\", \"Jayme\", \"Bill\" };\n",
    "string name = \"Scott\";\n",
    "var index = names.IndexOf(name);\n",
    "if(index == -1){\n",
    "    Console.WriteLine($\"{name} not found\");\n",
    "} else {\n",
    "    Console.WriteLine($\"Found {names[index]} at {index}\");\n",
    "}"
   ]
  },
  {
   "cell_type": "markdown",
   "id": "c7d5104f-5acf-4e40-8f1d-c1043f1c3ced",
   "metadata": {},
   "source": [
    "## Sort\n",
    "\n",
    "Until now, you've just been putting in names in a random order. But sometimes it's nice to have a list be sorted. `Sort()` takes a list and organizes it. It looks at the variable types and organizes in the most reasonable way it can see - if it's strings, it sorts alphabetically, if it's numbers it organizes from smallest to largest.\n",
    "\n",
    "Note that you don't need to write `sortedList = names.Sort()`, you just have to write `names.Sort()`. `Sort()` changes the list itself and you don't have to save the action to a new object.\n",
    "\n",
    "> Run the code!\n",
    ">\n",
    "> Feel free to add in any other names to see them get sorted."
   ]
  },
  {
   "cell_type": "code",
   "execution_count": 3,
   "id": "fa877495-d39b-4c5b-92ba-14a169a85608",
   "metadata": {},
   "outputs": [
    {
     "name": "stdout",
     "output_type": "stream",
     "text": [
      "Pre Sorting:\n",
      "Sophia\n",
      "Ana\n",
      "Jayme\n",
      "Bill\n",
      "\n",
      "Post Sorting:\n",
      "Ana\n",
      "Bill\n",
      "Jayme\n",
      "Sophia\n"
     ]
    }
   ],
   "source": [
    "var names = new List<string> { \"Sophia\", \"Ana\", \"Jayme\", \"Bill\" };\n",
    "Console.WriteLine(\"Pre Sorting:\");\n",
    "foreach(var name in names )\n",
    "{\n",
    "    Console.WriteLine(name);\n",
    "}\n",
    "\n",
    "names.Sort();\n",
    "\n",
    "Console.WriteLine();\n",
    "Console.WriteLine(\"Post Sorting:\");\n",
    "foreach(var name in names )\n",
    "{\n",
    "    Console.WriteLine(name);\n",
    "}"
   ]
  },
  {
   "cell_type": "code",
   "execution_count": null,
   "id": "7aebd81a-0444-46ba-b756-9bcefe3a0283",
   "metadata": {},
   "outputs": [],
   "source": []
  }
 ],
 "metadata": {
  "kernelspec": {
   "display_name": ".NET (C#)",
   "language": "C#",
   "name": ".net-csharp"
  },
  "language_info": {
   "file_extension": ".cs",
   "mimetype": "text/x-csharp",
   "name": "C#",
   "pygments_lexer": "csharp",
   "version": "10.0"
  }
 },
 "nbformat": 4,
 "nbformat_minor": 5
}
