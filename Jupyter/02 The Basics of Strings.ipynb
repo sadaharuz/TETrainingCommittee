{
 "cells": [
  {
   "cell_type": "markdown",
   "id": "c2d4dc6c-bde4-4790-8dce-1aa9e8c21cdf",
   "metadata": {},
   "source": [
    "# The Basics of Strings\n",
    "\n",
    "## What is a String?\n",
    "\n",
    "A string is a sequence of characters. A handy metaphor is a friendship bracelet, where you string together letters to make a name.\n",
    "\n",
    "## Strings and String Literals\n",
    "\n",
    "`firstFriend` and `secondFriend` are variables of strings. The line within `Console.WriteLine` is also a string. It's a **string literal**. A string literal is text what represents a constant string.\n",
    "\n",
    "> Try that out with the following code. Press play and see what comes out.\n",
    ">\n",
    "> Next, try changing the variables to see different names."
   ]
  },
  {
   "cell_type": "code",
   "execution_count": 1,
   "id": "e7e15a28-3a2d-46f3-b305-227d0a313db5",
   "metadata": {},
   "outputs": [
    {
     "data": {
      "text/html": [
       "\r\n",
       "<div>\r\n",
       "    <div id='dotnet-interactive-this-cell-1490.Microsoft.DotNet.Interactive.Http.HttpPort' style='display: none'>\r\n",
       "        The below script needs to be able to find the current output cell; this is an easy method to get it.\r\n",
       "    </div>\r\n",
       "    <script type='text/javascript'>\r\n",
       "async function probeAddresses(probingAddresses) {\r\n",
       "    function timeout(ms, promise) {\r\n",
       "        return new Promise(function (resolve, reject) {\r\n",
       "            setTimeout(function () {\r\n",
       "                reject(new Error('timeout'))\r\n",
       "            }, ms)\r\n",
       "            promise.then(resolve, reject)\r\n",
       "        })\r\n",
       "    }\r\n",
       "\r\n",
       "    if (Array.isArray(probingAddresses)) {\r\n",
       "        for (let i = 0; i < probingAddresses.length; i++) {\r\n",
       "\r\n",
       "            let rootUrl = probingAddresses[i];\r\n",
       "\r\n",
       "            if (!rootUrl.endsWith('/')) {\r\n",
       "                rootUrl = `${rootUrl}/`;\r\n",
       "            }\r\n",
       "\r\n",
       "            try {\r\n",
       "                let response = await timeout(1000, fetch(`${rootUrl}discovery`, {\r\n",
       "                    method: 'POST',\r\n",
       "                    cache: 'no-cache',\r\n",
       "                    mode: 'cors',\r\n",
       "                    timeout: 1000,\r\n",
       "                    headers: {\r\n",
       "                        'Content-Type': 'text/plain'\r\n",
       "                    },\r\n",
       "                    body: probingAddresses[i]\r\n",
       "                }));\r\n",
       "\r\n",
       "                if (response.status == 200) {\r\n",
       "                    return rootUrl;\r\n",
       "                }\r\n",
       "            }\r\n",
       "            catch (e) { }\r\n",
       "        }\r\n",
       "    }\r\n",
       "}\r\n",
       "\r\n",
       "function loadDotnetInteractiveApi() {\r\n",
       "    probeAddresses([\"http://172.17.0.2:1003/\", \"http://127.0.0.1:1003/\"])\r\n",
       "        .then((root) => {\r\n",
       "        // use probing to find host url and api resources\r\n",
       "        // load interactive helpers and language services\r\n",
       "        let dotnetInteractiveRequire = require.config({\r\n",
       "        context: '1490.Microsoft.DotNet.Interactive.Http.HttpPort',\r\n",
       "                paths:\r\n",
       "            {\r\n",
       "                'dotnet-interactive': `${root}resources`\r\n",
       "                }\r\n",
       "        }) || require;\r\n",
       "\r\n",
       "            window.dotnetInteractiveRequire = dotnetInteractiveRequire;\r\n",
       "\r\n",
       "            window.configureRequireFromExtension = function(extensionName, extensionCacheBuster) {\r\n",
       "                let paths = {};\r\n",
       "                paths[extensionName] = `${root}extensions/${extensionName}/resources/`;\r\n",
       "                \r\n",
       "                let internalRequire = require.config({\r\n",
       "                    context: extensionCacheBuster,\r\n",
       "                    paths: paths,\r\n",
       "                    urlArgs: `cacheBuster=${extensionCacheBuster}`\r\n",
       "                    }) || require;\r\n",
       "\r\n",
       "                return internalRequire\r\n",
       "            };\r\n",
       "        \r\n",
       "            dotnetInteractiveRequire([\r\n",
       "                    'dotnet-interactive/dotnet-interactive'\r\n",
       "                ],\r\n",
       "                function (dotnet) {\r\n",
       "                    dotnet.init(window);\r\n",
       "                },\r\n",
       "                function (error) {\r\n",
       "                    console.log(error);\r\n",
       "                }\r\n",
       "            );\r\n",
       "        })\r\n",
       "        .catch(error => {console.log(error);});\r\n",
       "    }\r\n",
       "\r\n",
       "// ensure `require` is available globally\r\n",
       "if ((typeof(require) !==  typeof(Function)) || (typeof(require.config) !== typeof(Function))) {\r\n",
       "    let require_script = document.createElement('script');\r\n",
       "    require_script.setAttribute('src', 'https://cdnjs.cloudflare.com/ajax/libs/require.js/2.3.6/require.min.js');\r\n",
       "    require_script.setAttribute('type', 'text/javascript');\r\n",
       "    \r\n",
       "    \r\n",
       "    require_script.onload = function() {\r\n",
       "        loadDotnetInteractiveApi();\r\n",
       "    };\r\n",
       "\r\n",
       "    document.getElementsByTagName('head')[0].appendChild(require_script);\r\n",
       "}\r\n",
       "else {\r\n",
       "    loadDotnetInteractiveApi();\r\n",
       "}\r\n",
       "\r\n",
       "    </script>\r\n",
       "</div>"
      ]
     },
     "metadata": {},
     "output_type": "display_data"
    },
    {
     "name": "stdout",
     "output_type": "stream",
     "text": [
      "My friends are Maria and Sophia\n"
     ]
    }
   ],
   "source": [
    "string firstFriend = \"Maria\";\n",
    "string secondFriend = \"Sophia\";\n",
    "Console.WriteLine($\"My friends are {firstFriend} and {secondFriend}\");"
   ]
  },
  {
   "cell_type": "markdown",
   "id": "5b32fa05-6476-469b-933a-63d81b284230",
   "metadata": {},
   "source": [
    "## String Properties\n",
    "\n",
    "As you explore more with strings, you'll find that strings are more than a collection of letters. You can find the length of a string using `Length`. `Length` is a **property** of a string and it returns the number of characters in that string.\n",
    "\n",
    "> Try that out by seeing how long the names of the friends are:"
   ]
  },
  {
   "cell_type": "code",
   "execution_count": 2,
   "id": "52e36fbe-9cf2-4c9d-893f-f82b2f65e125",
   "metadata": {},
   "outputs": [
    {
     "name": "stdout",
     "output_type": "stream",
     "text": [
      "The name Maria has 5 letters.\n",
      "The name Sophia has 6 letters.\n"
     ]
    }
   ],
   "source": [
    "Console.WriteLine($\"The name {firstFriend} has {firstFriend.Length} letters.\");\n",
    "Console.WriteLine($\"The name {secondFriend} has {secondFriend.Length} letters.\");"
   ]
  },
  {
   "cell_type": "markdown",
   "id": "870752ae-9026-40fb-9f68-283c63d82ef5",
   "metadata": {},
   "source": [
    "# String Methods\n",
    "\n",
    "## Leading and Trailing Spaces\n",
    "\n",
    "Suppose your strings have leading or trailing spaces (also called **white space**) that you don't want to display. You want to trim the spaces from the strings. The `Trim` method and related methods `TrimStart` and `TrimEnd` do that work. You can just use those methods to remove leading and trailing spaces.\n",
    "\n",
    "> Play around with trimming in the following code. The brackets are there to help you see all the white space.\n"
   ]
  },
  {
   "cell_type": "code",
   "execution_count": 3,
   "id": "8a8052e0-0635-4703-9b65-b6e1f8fed0b1",
   "metadata": {},
   "outputs": [
    {
     "name": "stdout",
     "output_type": "stream",
     "text": [
      "[      Hello World!       ]\n",
      "[Hello World!       ]\n",
      "[      Hello World!]\n",
      "[Hello World!]\n"
     ]
    }
   ],
   "source": [
    "string greeting = \"      Hello World!       \";\n",
    "Console.WriteLine($\"[{greeting}]\");\n",
    "\n",
    "string trimmedGreeting = greeting.TrimStart();\n",
    "Console.WriteLine($\"[{trimmedGreeting}]\");\n",
    "\n",
    "trimmedGreeting = greeting.TrimEnd();\n",
    "Console.WriteLine($\"[{trimmedGreeting}]\");\n",
    "\n",
    "trimmedGreeting = greeting.Trim();\n",
    "Console.WriteLine($\"[{trimmedGreeting}]\");"
   ]
  },
  {
   "cell_type": "markdown",
   "id": "e379f926-57d6-4d68-97d7-c34ec7fe2df2",
   "metadata": {},
   "source": [
    "## Replace\n",
    "\n",
    "You can also replace substrings with other values. For example, in the code below, you can take \"Hello World!\" and replace \"Hello\" with \"Greetings\", to make \"Greetings World!\"\n",
    "\n",
    "> Try it out. What else could you replace \"Hello\" with?"
   ]
  },
  {
   "cell_type": "code",
   "execution_count": 4,
   "id": "4efb4acc-181e-4ac2-b8c9-47d88bdef625",
   "metadata": {},
   "outputs": [
    {
     "name": "stdout",
     "output_type": "stream",
     "text": [
      "Hello World!\n",
      "Greetings World!\n"
     ]
    }
   ],
   "source": [
    "string sayHello = \"Hello World!\";\n",
    "Console.WriteLine(sayHello);\n",
    "sayHello = sayHello.Replace(\"Hello\", \"Greetings\");\n",
    "Console.WriteLine(sayHello);"
   ]
  },
  {
   "cell_type": "markdown",
   "id": "c55ef351-91fc-4655-abd3-cceb35aa5f06",
   "metadata": {},
   "source": [
    "## Changing Case\n",
    "\n",
    "Sometimes you need your strings to be all UPPERCASE or all lowercase. `ToUpper` and `ToLower` do just that.\n",
    "> The following example seems a bit mixed up. Can you fix it so \"whisper\" is all lowercase, and \"shout\" is all uppercase?"
   ]
  },
  {
   "cell_type": "code",
   "execution_count": 5,
   "id": "0af4328b-ac18-4749-af35-b5a66e37873f",
   "metadata": {},
   "outputs": [
    {
     "name": "stdout",
     "output_type": "stream",
     "text": [
      "WHISPER\n",
      "shout\n"
     ]
    }
   ],
   "source": [
    "Console.WriteLine(\"WhiSPer\".ToUpper());\n",
    "Console.WriteLine(\"sHoUt\".ToLower());"
   ]
  },
  {
   "cell_type": "code",
   "execution_count": null,
   "id": "e3cd5a48-9d41-425c-b282-f289ccae0bd5",
   "metadata": {},
   "outputs": [],
   "source": []
  }
 ],
 "metadata": {
  "kernelspec": {
   "display_name": ".NET (C#)",
   "language": "C#",
   "name": ".net-csharp"
  },
  "language_info": {
   "file_extension": ".cs",
   "mimetype": "text/x-csharp",
   "name": "C#",
   "pygments_lexer": "csharp",
   "version": "10.0"
  }
 },
 "nbformat": 4,
 "nbformat_minor": 5
}
